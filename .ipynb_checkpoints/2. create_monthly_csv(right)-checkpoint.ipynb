{
 "cells": [
  {
   "cell_type": "code",
   "execution_count": 2,
   "metadata": {
    "ExecuteTime": {
     "end_time": "2020-05-13T16:13:29.424583Z",
     "start_time": "2020-05-13T16:13:28.449331Z"
    }
   },
   "outputs": [],
   "source": [
    "import pandas as pd\n",
    "import matplotlib.pyplot as plt\n",
    "import datetime"
   ]
  },
  {
   "cell_type": "code",
   "execution_count": 3,
   "metadata": {
    "ExecuteTime": {
     "end_time": "2020-05-13T16:13:29.429590Z",
     "start_time": "2020-05-13T16:13:29.426707Z"
    }
   },
   "outputs": [],
   "source": [
    "from matplotlib import rc\n",
    "rc('font', family='AppleGothic')\n",
    "plt.rcParams['axes.unicode_minus'] = False"
   ]
  },
  {
   "cell_type": "code",
   "execution_count": 7,
   "metadata": {
    "ExecuteTime": {
     "end_time": "2020-05-13T16:15:41.457056Z",
     "start_time": "2020-05-13T16:15:41.452012Z"
    }
   },
   "outputs": [],
   "source": [
    "df = pd.read_csv('./data/yearly_right.csv')"
   ]
  },
  {
   "cell_type": "code",
   "execution_count": 9,
   "metadata": {
    "ExecuteTime": {
     "end_time": "2020-05-13T16:16:08.889555Z",
     "start_time": "2020-05-13T16:16:08.886317Z"
    }
   },
   "outputs": [],
   "source": [
    "df.columns = ['year','r_under_0.1','r_0.2-0.4','r_0.5-0.7','r_0.8-1.0','r_1.1-1.5','r_1.6-2.0']"
   ]
  },
  {
   "cell_type": "code",
   "execution_count": 11,
   "metadata": {
    "ExecuteTime": {
     "end_time": "2020-05-13T16:16:20.365183Z",
     "start_time": "2020-05-13T16:16:20.362244Z"
    }
   },
   "outputs": [],
   "source": [
    "years = ['2011-01-01',\n",
    "         '2012-01-01',\n",
    "         '2013-01-01',\n",
    "         '2014-01-01',\n",
    "         '2015-01-01',\n",
    "         '2016-01-01',\n",
    "         '2017-01-01',\n",
    "         '2018-01-01', ]"
   ]
  },
  {
   "cell_type": "code",
   "execution_count": 12,
   "metadata": {
    "ExecuteTime": {
     "end_time": "2020-05-13T16:16:24.183496Z",
     "start_time": "2020-05-13T16:16:24.173252Z"
    }
   },
   "outputs": [
    {
     "data": {
      "text/html": [
       "<div>\n",
       "<style scoped>\n",
       "    .dataframe tbody tr th:only-of-type {\n",
       "        vertical-align: middle;\n",
       "    }\n",
       "\n",
       "    .dataframe tbody tr th {\n",
       "        vertical-align: top;\n",
       "    }\n",
       "\n",
       "    .dataframe thead th {\n",
       "        text-align: right;\n",
       "    }\n",
       "</style>\n",
       "<table border=\"1\" class=\"dataframe\">\n",
       "  <thead>\n",
       "    <tr style=\"text-align: right;\">\n",
       "      <th></th>\n",
       "      <th>year</th>\n",
       "      <th>r_under_0.1</th>\n",
       "      <th>r_0.2-0.4</th>\n",
       "      <th>r_0.5-0.7</th>\n",
       "      <th>r_0.8-1.0</th>\n",
       "      <th>r_1.1-1.5</th>\n",
       "      <th>r_1.6-2.0</th>\n",
       "    </tr>\n",
       "  </thead>\n",
       "  <tbody>\n",
       "    <tr>\n",
       "      <th>0</th>\n",
       "      <td>2011-01-01</td>\n",
       "      <td>154576</td>\n",
       "      <td>812001</td>\n",
       "      <td>2039710</td>\n",
       "      <td>4364846</td>\n",
       "      <td>3493083</td>\n",
       "      <td>130366</td>\n",
       "    </tr>\n",
       "    <tr>\n",
       "      <th>1</th>\n",
       "      <td>2012-01-01</td>\n",
       "      <td>136696</td>\n",
       "      <td>824991</td>\n",
       "      <td>2123844</td>\n",
       "      <td>4531453</td>\n",
       "      <td>3609146</td>\n",
       "      <td>119395</td>\n",
       "    </tr>\n",
       "    <tr>\n",
       "      <th>2</th>\n",
       "      <td>2013-01-01</td>\n",
       "      <td>132450</td>\n",
       "      <td>818317</td>\n",
       "      <td>2141222</td>\n",
       "      <td>4537142</td>\n",
       "      <td>3598555</td>\n",
       "      <td>113016</td>\n",
       "    </tr>\n",
       "    <tr>\n",
       "      <th>3</th>\n",
       "      <td>2014-01-01</td>\n",
       "      <td>137906</td>\n",
       "      <td>856088</td>\n",
       "      <td>2304111</td>\n",
       "      <td>4934732</td>\n",
       "      <td>3910983</td>\n",
       "      <td>115374</td>\n",
       "    </tr>\n",
       "    <tr>\n",
       "      <th>4</th>\n",
       "      <td>2015-01-01</td>\n",
       "      <td>151692</td>\n",
       "      <td>952408</td>\n",
       "      <td>2633252</td>\n",
       "      <td>5651838</td>\n",
       "      <td>4459447</td>\n",
       "      <td>128538</td>\n",
       "    </tr>\n",
       "    <tr>\n",
       "      <th>5</th>\n",
       "      <td>2016-01-01</td>\n",
       "      <td>152642</td>\n",
       "      <td>961137</td>\n",
       "      <td>2745615</td>\n",
       "      <td>5937871</td>\n",
       "      <td>4575818</td>\n",
       "      <td>126629</td>\n",
       "    </tr>\n",
       "    <tr>\n",
       "      <th>6</th>\n",
       "      <td>2017-01-01</td>\n",
       "      <td>151740</td>\n",
       "      <td>966773</td>\n",
       "      <td>2814221</td>\n",
       "      <td>6099580</td>\n",
       "      <td>4606251</td>\n",
       "      <td>117961</td>\n",
       "    </tr>\n",
       "    <tr>\n",
       "      <th>7</th>\n",
       "      <td>2018-01-01</td>\n",
       "      <td>149482</td>\n",
       "      <td>965838</td>\n",
       "      <td>2881103</td>\n",
       "      <td>6259017</td>\n",
       "      <td>4661151</td>\n",
       "      <td>111860</td>\n",
       "    </tr>\n",
       "  </tbody>\n",
       "</table>\n",
       "</div>"
      ],
      "text/plain": [
       "        year  r_under_0.1  r_0.2-0.4  r_0.5-0.7  r_0.8-1.0  r_1.1-1.5  \\\n",
       "0 2011-01-01       154576     812001    2039710    4364846    3493083   \n",
       "1 2012-01-01       136696     824991    2123844    4531453    3609146   \n",
       "2 2013-01-01       132450     818317    2141222    4537142    3598555   \n",
       "3 2014-01-01       137906     856088    2304111    4934732    3910983   \n",
       "4 2015-01-01       151692     952408    2633252    5651838    4459447   \n",
       "5 2016-01-01       152642     961137    2745615    5937871    4575818   \n",
       "6 2017-01-01       151740     966773    2814221    6099580    4606251   \n",
       "7 2018-01-01       149482     965838    2881103    6259017    4661151   \n",
       "\n",
       "   r_1.6-2.0  \n",
       "0     130366  \n",
       "1     119395  \n",
       "2     113016  \n",
       "3     115374  \n",
       "4     128538  \n",
       "5     126629  \n",
       "6     117961  \n",
       "7     111860  "
      ]
     },
     "execution_count": 12,
     "metadata": {},
     "output_type": "execute_result"
    }
   ],
   "source": [
    "df['year'] = pd.to_datetime(years,format=\"%Y\",infer_datetime_format=True)\n",
    "df"
   ]
  },
  {
   "cell_type": "code",
   "execution_count": 7,
   "metadata": {
    "ExecuteTime": {
     "end_time": "2020-04-15T08:56:45.830034Z",
     "start_time": "2020-04-15T08:56:45.826047Z"
    }
   },
   "outputs": [],
   "source": [
    "df['year'] = pd.to_datetime(df['year'], unit='s')"
   ]
  },
  {
   "cell_type": "code",
   "execution_count": 13,
   "metadata": {
    "ExecuteTime": {
     "end_time": "2020-05-13T16:16:45.109249Z",
     "start_time": "2020-05-13T16:16:44.844608Z"
    }
   },
   "outputs": [],
   "source": [
    "upsampled = df.set_index('year').resample('D')\n",
    "# resampled = upsampled.resample('Q')\n",
    "interpolated = upsampled.interpolate(method='quadratic')"
   ]
  },
  {
   "cell_type": "code",
   "execution_count": 15,
   "metadata": {
    "ExecuteTime": {
     "end_time": "2020-05-13T16:16:47.001891Z",
     "start_time": "2020-05-13T16:16:46.987964Z"
    }
   },
   "outputs": [
    {
     "data": {
      "text/html": [
       "<div>\n",
       "<style scoped>\n",
       "    .dataframe tbody tr th:only-of-type {\n",
       "        vertical-align: middle;\n",
       "    }\n",
       "\n",
       "    .dataframe tbody tr th {\n",
       "        vertical-align: top;\n",
       "    }\n",
       "\n",
       "    .dataframe thead th {\n",
       "        text-align: right;\n",
       "    }\n",
       "</style>\n",
       "<table border=\"1\" class=\"dataframe\">\n",
       "  <thead>\n",
       "    <tr style=\"text-align: right;\">\n",
       "      <th></th>\n",
       "      <th>r_under_0.1</th>\n",
       "      <th>r_0.2-0.4</th>\n",
       "      <th>r_0.5-0.7</th>\n",
       "      <th>r_0.8-1.0</th>\n",
       "      <th>r_1.1-1.5</th>\n",
       "      <th>r_1.6-2.0</th>\n",
       "    </tr>\n",
       "    <tr>\n",
       "      <th>year</th>\n",
       "      <th></th>\n",
       "      <th></th>\n",
       "      <th></th>\n",
       "      <th></th>\n",
       "      <th></th>\n",
       "      <th></th>\n",
       "    </tr>\n",
       "  </thead>\n",
       "  <tbody>\n",
       "    <tr>\n",
       "      <th>2011-01-01</th>\n",
       "      <td>154576.000000</td>\n",
       "      <td>812001.000000</td>\n",
       "      <td>2.039710e+06</td>\n",
       "      <td>4.364846e+06</td>\n",
       "      <td>3.493083e+06</td>\n",
       "      <td>130366.000000</td>\n",
       "    </tr>\n",
       "    <tr>\n",
       "      <th>2011-01-02</th>\n",
       "      <td>154507.365550</td>\n",
       "      <td>812076.735695</td>\n",
       "      <td>2.040078e+06</td>\n",
       "      <td>4.365649e+06</td>\n",
       "      <td>3.493678e+06</td>\n",
       "      <td>130330.346864</td>\n",
       "    </tr>\n",
       "    <tr>\n",
       "      <th>2011-01-03</th>\n",
       "      <td>154438.839057</td>\n",
       "      <td>812152.250805</td>\n",
       "      <td>2.040445e+06</td>\n",
       "      <td>4.366450e+06</td>\n",
       "      <td>3.494271e+06</td>\n",
       "      <td>130294.724473</td>\n",
       "    </tr>\n",
       "    <tr>\n",
       "      <th>2011-01-04</th>\n",
       "      <td>154370.420520</td>\n",
       "      <td>812227.545328</td>\n",
       "      <td>2.040811e+06</td>\n",
       "      <td>4.367249e+06</td>\n",
       "      <td>3.494862e+06</td>\n",
       "      <td>130259.132827</td>\n",
       "    </tr>\n",
       "    <tr>\n",
       "      <th>2011-01-05</th>\n",
       "      <td>154302.109941</td>\n",
       "      <td>812302.619266</td>\n",
       "      <td>2.041177e+06</td>\n",
       "      <td>4.368047e+06</td>\n",
       "      <td>3.495452e+06</td>\n",
       "      <td>130223.571927</td>\n",
       "    </tr>\n",
       "    <tr>\n",
       "      <th>...</th>\n",
       "      <td>...</td>\n",
       "      <td>...</td>\n",
       "      <td>...</td>\n",
       "      <td>...</td>\n",
       "      <td>...</td>\n",
       "      <td>...</td>\n",
       "    </tr>\n",
       "    <tr>\n",
       "      <th>2017-12-28</th>\n",
       "      <td>149515.970106</td>\n",
       "      <td>965904.430857</td>\n",
       "      <td>2.880377e+06</td>\n",
       "      <td>6.257234e+06</td>\n",
       "      <td>4.660386e+06</td>\n",
       "      <td>111906.511422</td>\n",
       "    </tr>\n",
       "    <tr>\n",
       "      <th>2017-12-29</th>\n",
       "      <td>149507.496745</td>\n",
       "      <td>965887.939869</td>\n",
       "      <td>2.880558e+06</td>\n",
       "      <td>6.257680e+06</td>\n",
       "      <td>4.660577e+06</td>\n",
       "      <td>111894.841291</td>\n",
       "    </tr>\n",
       "    <tr>\n",
       "      <th>2017-12-30</th>\n",
       "      <td>149499.010607</td>\n",
       "      <td>965871.371064</td>\n",
       "      <td>2.880740e+06</td>\n",
       "      <td>6.258125e+06</td>\n",
       "      <td>4.660768e+06</td>\n",
       "      <td>111883.199343</td>\n",
       "    </tr>\n",
       "    <tr>\n",
       "      <th>2017-12-31</th>\n",
       "      <td>149490.511692</td>\n",
       "      <td>965854.724441</td>\n",
       "      <td>2.880921e+06</td>\n",
       "      <td>6.258571e+06</td>\n",
       "      <td>4.660960e+06</td>\n",
       "      <td>111871.585580</td>\n",
       "    </tr>\n",
       "    <tr>\n",
       "      <th>2018-01-01</th>\n",
       "      <td>149482.000000</td>\n",
       "      <td>965838.000000</td>\n",
       "      <td>2.881103e+06</td>\n",
       "      <td>6.259017e+06</td>\n",
       "      <td>4.661151e+06</td>\n",
       "      <td>111860.000000</td>\n",
       "    </tr>\n",
       "  </tbody>\n",
       "</table>\n",
       "<p>2558 rows × 6 columns</p>\n",
       "</div>"
      ],
      "text/plain": [
       "              r_under_0.1      r_0.2-0.4     r_0.5-0.7     r_0.8-1.0  \\\n",
       "year                                                                   \n",
       "2011-01-01  154576.000000  812001.000000  2.039710e+06  4.364846e+06   \n",
       "2011-01-02  154507.365550  812076.735695  2.040078e+06  4.365649e+06   \n",
       "2011-01-03  154438.839057  812152.250805  2.040445e+06  4.366450e+06   \n",
       "2011-01-04  154370.420520  812227.545328  2.040811e+06  4.367249e+06   \n",
       "2011-01-05  154302.109941  812302.619266  2.041177e+06  4.368047e+06   \n",
       "...                   ...            ...           ...           ...   \n",
       "2017-12-28  149515.970106  965904.430857  2.880377e+06  6.257234e+06   \n",
       "2017-12-29  149507.496745  965887.939869  2.880558e+06  6.257680e+06   \n",
       "2017-12-30  149499.010607  965871.371064  2.880740e+06  6.258125e+06   \n",
       "2017-12-31  149490.511692  965854.724441  2.880921e+06  6.258571e+06   \n",
       "2018-01-01  149482.000000  965838.000000  2.881103e+06  6.259017e+06   \n",
       "\n",
       "               r_1.1-1.5      r_1.6-2.0  \n",
       "year                                     \n",
       "2011-01-01  3.493083e+06  130366.000000  \n",
       "2011-01-02  3.493678e+06  130330.346864  \n",
       "2011-01-03  3.494271e+06  130294.724473  \n",
       "2011-01-04  3.494862e+06  130259.132827  \n",
       "2011-01-05  3.495452e+06  130223.571927  \n",
       "...                  ...            ...  \n",
       "2017-12-28  4.660386e+06  111906.511422  \n",
       "2017-12-29  4.660577e+06  111894.841291  \n",
       "2017-12-30  4.660768e+06  111883.199343  \n",
       "2017-12-31  4.660960e+06  111871.585580  \n",
       "2018-01-01  4.661151e+06  111860.000000  \n",
       "\n",
       "[2558 rows x 6 columns]"
      ]
     },
     "execution_count": 15,
     "metadata": {},
     "output_type": "execute_result"
    }
   ],
   "source": [
    "interpolated"
   ]
  },
  {
   "cell_type": "code",
   "execution_count": 16,
   "metadata": {
    "ExecuteTime": {
     "end_time": "2020-05-13T16:16:52.004106Z",
     "start_time": "2020-05-13T16:16:51.992181Z"
    }
   },
   "outputs": [
    {
     "data": {
      "text/html": [
       "<div>\n",
       "<style scoped>\n",
       "    .dataframe tbody tr th:only-of-type {\n",
       "        vertical-align: middle;\n",
       "    }\n",
       "\n",
       "    .dataframe tbody tr th {\n",
       "        vertical-align: top;\n",
       "    }\n",
       "\n",
       "    .dataframe thead th {\n",
       "        text-align: right;\n",
       "    }\n",
       "</style>\n",
       "<table border=\"1\" class=\"dataframe\">\n",
       "  <thead>\n",
       "    <tr style=\"text-align: right;\">\n",
       "      <th></th>\n",
       "      <th>r_under_0.1</th>\n",
       "      <th>r_0.2-0.4</th>\n",
       "      <th>r_0.5-0.7</th>\n",
       "      <th>r_0.8-1.0</th>\n",
       "      <th>r_1.1-1.5</th>\n",
       "      <th>r_1.6-2.0</th>\n",
       "    </tr>\n",
       "    <tr>\n",
       "      <th>year</th>\n",
       "      <th></th>\n",
       "      <th></th>\n",
       "      <th></th>\n",
       "      <th></th>\n",
       "      <th></th>\n",
       "      <th></th>\n",
       "    </tr>\n",
       "  </thead>\n",
       "  <tbody>\n",
       "    <tr>\n",
       "      <th>2011-01-01</th>\n",
       "      <td>154576</td>\n",
       "      <td>812001</td>\n",
       "      <td>2039710</td>\n",
       "      <td>4364846</td>\n",
       "      <td>3493083</td>\n",
       "      <td>130366</td>\n",
       "    </tr>\n",
       "    <tr>\n",
       "      <th>2011-01-02</th>\n",
       "      <td>154507</td>\n",
       "      <td>812077</td>\n",
       "      <td>2040078</td>\n",
       "      <td>4365649</td>\n",
       "      <td>3493678</td>\n",
       "      <td>130330</td>\n",
       "    </tr>\n",
       "    <tr>\n",
       "      <th>2011-01-03</th>\n",
       "      <td>154439</td>\n",
       "      <td>812152</td>\n",
       "      <td>2040445</td>\n",
       "      <td>4366450</td>\n",
       "      <td>3494271</td>\n",
       "      <td>130295</td>\n",
       "    </tr>\n",
       "    <tr>\n",
       "      <th>2011-01-04</th>\n",
       "      <td>154370</td>\n",
       "      <td>812228</td>\n",
       "      <td>2040811</td>\n",
       "      <td>4367249</td>\n",
       "      <td>3494862</td>\n",
       "      <td>130259</td>\n",
       "    </tr>\n",
       "    <tr>\n",
       "      <th>2011-01-05</th>\n",
       "      <td>154302</td>\n",
       "      <td>812303</td>\n",
       "      <td>2041177</td>\n",
       "      <td>4368047</td>\n",
       "      <td>3495452</td>\n",
       "      <td>130224</td>\n",
       "    </tr>\n",
       "    <tr>\n",
       "      <th>...</th>\n",
       "      <td>...</td>\n",
       "      <td>...</td>\n",
       "      <td>...</td>\n",
       "      <td>...</td>\n",
       "      <td>...</td>\n",
       "      <td>...</td>\n",
       "    </tr>\n",
       "    <tr>\n",
       "      <th>2017-12-28</th>\n",
       "      <td>149516</td>\n",
       "      <td>965904</td>\n",
       "      <td>2880377</td>\n",
       "      <td>6257234</td>\n",
       "      <td>4660386</td>\n",
       "      <td>111907</td>\n",
       "    </tr>\n",
       "    <tr>\n",
       "      <th>2017-12-29</th>\n",
       "      <td>149507</td>\n",
       "      <td>965888</td>\n",
       "      <td>2880558</td>\n",
       "      <td>6257680</td>\n",
       "      <td>4660577</td>\n",
       "      <td>111895</td>\n",
       "    </tr>\n",
       "    <tr>\n",
       "      <th>2017-12-30</th>\n",
       "      <td>149499</td>\n",
       "      <td>965871</td>\n",
       "      <td>2880740</td>\n",
       "      <td>6258125</td>\n",
       "      <td>4660768</td>\n",
       "      <td>111883</td>\n",
       "    </tr>\n",
       "    <tr>\n",
       "      <th>2017-12-31</th>\n",
       "      <td>149491</td>\n",
       "      <td>965855</td>\n",
       "      <td>2880921</td>\n",
       "      <td>6258571</td>\n",
       "      <td>4660960</td>\n",
       "      <td>111872</td>\n",
       "    </tr>\n",
       "    <tr>\n",
       "      <th>2018-01-01</th>\n",
       "      <td>149482</td>\n",
       "      <td>965838</td>\n",
       "      <td>2881103</td>\n",
       "      <td>6259017</td>\n",
       "      <td>4661151</td>\n",
       "      <td>111860</td>\n",
       "    </tr>\n",
       "  </tbody>\n",
       "</table>\n",
       "<p>2558 rows × 6 columns</p>\n",
       "</div>"
      ],
      "text/plain": [
       "            r_under_0.1  r_0.2-0.4  r_0.5-0.7  r_0.8-1.0  r_1.1-1.5  r_1.6-2.0\n",
       "year                                                                          \n",
       "2011-01-01       154576     812001    2039710    4364846    3493083     130366\n",
       "2011-01-02       154507     812077    2040078    4365649    3493678     130330\n",
       "2011-01-03       154439     812152    2040445    4366450    3494271     130295\n",
       "2011-01-04       154370     812228    2040811    4367249    3494862     130259\n",
       "2011-01-05       154302     812303    2041177    4368047    3495452     130224\n",
       "...                 ...        ...        ...        ...        ...        ...\n",
       "2017-12-28       149516     965904    2880377    6257234    4660386     111907\n",
       "2017-12-29       149507     965888    2880558    6257680    4660577     111895\n",
       "2017-12-30       149499     965871    2880740    6258125    4660768     111883\n",
       "2017-12-31       149491     965855    2880921    6258571    4660960     111872\n",
       "2018-01-01       149482     965838    2881103    6259017    4661151     111860\n",
       "\n",
       "[2558 rows x 6 columns]"
      ]
     },
     "execution_count": 16,
     "metadata": {},
     "output_type": "execute_result"
    }
   ],
   "source": [
    "interpolated.round().astype(int)"
   ]
  },
  {
   "cell_type": "code",
   "execution_count": 17,
   "metadata": {
    "ExecuteTime": {
     "end_time": "2020-05-13T16:18:09.619840Z",
     "start_time": "2020-05-13T16:18:09.555389Z"
    }
   },
   "outputs": [],
   "source": [
    "interpolated.reset_index().to_csv('./data/daily_right.csv', index=False)"
   ]
  },
  {
   "cell_type": "code",
   "execution_count": 64,
   "metadata": {
    "ExecuteTime": {
     "end_time": "2020-04-14T04:43:22.159471Z",
     "start_time": "2020-04-14T04:43:21.902786Z"
    }
   },
   "outputs": [
    {
     "data": {
      "image/png": "[encoded data removed]",
      "text/plain": [
       "<Figure size 432x288 with 1 Axes>"
      ]
     },
     "metadata": {
      "needs_background": "light"
     },
     "output_type": "display_data"
    }
   ],
   "source": [
    "df.set_index('년도').plot()\n",
    "plt.legend(loc='right',bbox_to_anchor=(1.4, 0.3))\n",
    "# plt.savefig('일별좌안시력_before_upsampling.png',bbox_inces='tight',pad_inches=0)\n",
    "plt.show()\n"
   ]
  },
  {
   "cell_type": "code",
   "execution_count": 58,
   "metadata": {
    "ExecuteTime": {
     "end_time": "2020-04-14T04:40:20.420280Z",
     "start_time": "2020-04-14T04:40:20.113190Z"
    },
    "scrolled": false
   },
   "outputs": [
    {
     "data": {
      "text/plain": [
       "<matplotlib.legend.Legend at 0x12408ce48>"
      ]
     },
     "execution_count": 58,
     "metadata": {},
     "output_type": "execute_result"
    },
    {
     "data": {
      "image/png": "[encoded data removed]",
      "text/plain": [
       "<Figure size 432x288 with 1 Axes>"
      ]
     },
     "metadata": {
      "needs_background": "light"
     },
     "output_type": "display_data"
    }
   ],
   "source": [
    "interpolated.plot()\n",
    "plt.legend(loc='right',bbox_to_anchor=(1.4, 0.3))\n"
   ]
  },
  {
   "cell_type": "markdown",
   "metadata": {},
   "source": [
    "# 분기별 "
   ]
  },
  {
   "cell_type": "code",
   "execution_count": 103,
   "metadata": {
    "ExecuteTime": {
     "end_time": "2020-04-15T04:55:20.164183Z",
     "start_time": "2020-04-15T04:55:19.901782Z"
    }
   },
   "outputs": [
    {
     "data": {
      "text/plain": [
       "<matplotlib.axes._subplots.AxesSubplot at 0x123c77320>"
      ]
     },
     "execution_count": 103,
     "metadata": {},
     "output_type": "execute_result"
    },
    {
     "data": {
      "image/png": "[encoded data removed]",
      "text/plain": [
       "<Figure size 432x288 with 1 Axes>"
      ]
     },
     "metadata": {
      "needs_background": "light"
     },
     "output_type": "display_data"
    }
   ],
   "source": [
    "resample = interpolated.resample('Q')\n",
    "quarterly_mean_sales = resample.mean().round().astype(int)\n",
    "quarterly_mean_sales.plot()"
   ]
  },
  {
   "cell_type": "code",
   "execution_count": 105,
   "metadata": {
    "ExecuteTime": {
     "end_time": "2020-04-15T04:55:48.368155Z",
     "start_time": "2020-04-15T04:55:48.357251Z"
    }
   },
   "outputs": [],
   "source": [
    "quarterly_mean_sales.reset_index().to_csv('./data/분기별_좌안시력.csv', index=False)"
   ]
  },
  {
   "cell_type": "code",
   "execution_count": 153,
   "metadata": {
    "ExecuteTime": {
     "end_time": "2020-04-06T15:47:47.109463Z",
     "start_time": "2020-04-06T15:47:46.852125Z"
    }
   },
   "outputs": [
    {
     "data": {
      "text/plain": [
       "<matplotlib.axes._subplots.AxesSubplot at 0x12251aeb8>"
      ]
     },
     "execution_count": 153,
     "metadata": {},
     "output_type": "execute_result"
    },
    {
     "data": {
      "image/png": "[encoded data removed]",
      "text/plain": [
       "<Figure size 432x288 with 1 Axes>"
      ]
     },
     "metadata": {
      "needs_background": "light"
     },
     "output_type": "display_data"
    }
   ],
   "source": [
    "quarterly_mean_sales.plot()"
   ]
  },
  {
   "cell_type": "code",
   "execution_count": 154,
   "metadata": {
    "ExecuteTime": {
     "end_time": "2020-04-06T15:48:02.957484Z",
     "start_time": "2020-04-06T15:48:02.770797Z"
    }
   },
   "outputs": [
    {
     "data": {
      "text/plain": [
       "<matplotlib.axes._subplots.AxesSubplot at 0x122641ba8>"
      ]
     },
     "execution_count": 154,
     "metadata": {},
     "output_type": "execute_result"
    },
    {
     "data": {
      "image/png": "[encoded data removed]",
      "text/plain": [
       "<Figure size 432x288 with 1 Axes>"
      ]
     },
     "metadata": {
      "needs_background": "light"
     },
     "output_type": "display_data"
    }
   ],
   "source": [
    "df.set_index('년도').plot()"
   ]
  },
  {
   "cell_type": "code",
   "execution_count": 157,
   "metadata": {
    "ExecuteTime": {
     "end_time": "2020-04-06T15:51:16.366751Z",
     "start_time": "2020-04-06T15:51:16.351247Z"
    }
   },
   "outputs": [
    {
     "data": {
      "text/html": [
       "<div>\n",
       "<style scoped>\n",
       "    .dataframe tbody tr th:only-of-type {\n",
       "        vertical-align: middle;\n",
       "    }\n",
       "\n",
       "    .dataframe tbody tr th {\n",
       "        vertical-align: top;\n",
       "    }\n",
       "\n",
       "    .dataframe thead th {\n",
       "        text-align: right;\n",
       "    }\n",
       "</style>\n",
       "<table border=\"1\" class=\"dataframe\">\n",
       "  <thead>\n",
       "    <tr style=\"text-align: right;\">\n",
       "      <th></th>\n",
       "      <th>좌안시력_0.1 이하</th>\n",
       "      <th>좌안시력_0.2-0.4</th>\n",
       "      <th>좌안시력_0.5-0.7</th>\n",
       "      <th>좌안시력_0.8-1.0</th>\n",
       "      <th>좌안시력_1.1-1.5</th>\n",
       "      <th>좌안시력_1.6-2.0</th>\n",
       "    </tr>\n",
       "    <tr>\n",
       "      <th>년도</th>\n",
       "      <th></th>\n",
       "      <th></th>\n",
       "      <th></th>\n",
       "      <th></th>\n",
       "      <th></th>\n",
       "      <th></th>\n",
       "    </tr>\n",
       "  </thead>\n",
       "  <tbody>\n",
       "    <tr>\n",
       "      <th>2011-01-31</th>\n",
       "      <td>150808.656974</td>\n",
       "      <td>810889.446991</td>\n",
       "      <td>2.056239e+06</td>\n",
       "      <td>4.371385e+06</td>\n",
       "      <td>3.521993e+06</td>\n",
       "      <td>144753.801208</td>\n",
       "    </tr>\n",
       "    <tr>\n",
       "      <th>2011-02-28</th>\n",
       "      <td>148644.297876</td>\n",
       "      <td>813044.499092</td>\n",
       "      <td>2.067064e+06</td>\n",
       "      <td>4.392199e+06</td>\n",
       "      <td>3.539525e+06</td>\n",
       "      <td>144036.923410</td>\n",
       "    </tr>\n",
       "    <tr>\n",
       "      <th>2011-03-31</th>\n",
       "      <td>146622.824929</td>\n",
       "      <td>814974.767944</td>\n",
       "      <td>2.077118e+06</td>\n",
       "      <td>4.411329e+06</td>\n",
       "      <td>3.555605e+06</td>\n",
       "      <td>143322.135001</td>\n",
       "    </tr>\n",
       "    <tr>\n",
       "      <th>2011-04-30</th>\n",
       "      <td>144678.915783</td>\n",
       "      <td>816740.648876</td>\n",
       "      <td>2.086725e+06</td>\n",
       "      <td>4.429385e+06</td>\n",
       "      <td>3.570748e+06</td>\n",
       "      <td>142585.252689</td>\n",
       "    </tr>\n",
       "    <tr>\n",
       "      <th>2011-05-31</th>\n",
       "      <td>142886.019271</td>\n",
       "      <td>818268.962276</td>\n",
       "      <td>2.095519e+06</td>\n",
       "      <td>4.445662e+06</td>\n",
       "      <td>3.584358e+06</td>\n",
       "      <td>141850.578597</td>\n",
       "    </tr>\n",
       "    <tr>\n",
       "      <th>...</th>\n",
       "      <td>...</td>\n",
       "      <td>...</td>\n",
       "      <td>...</td>\n",
       "      <td>...</td>\n",
       "      <td>...</td>\n",
       "      <td>...</td>\n",
       "    </tr>\n",
       "    <tr>\n",
       "      <th>2017-09-30</th>\n",
       "      <td>144769.951819</td>\n",
       "      <td>952383.047577</td>\n",
       "      <td>2.877854e+06</td>\n",
       "      <td>6.163600e+06</td>\n",
       "      <td>4.677825e+06</td>\n",
       "      <td>128492.126238</td>\n",
       "    </tr>\n",
       "    <tr>\n",
       "      <th>2017-10-31</th>\n",
       "      <td>144696.202735</td>\n",
       "      <td>952320.663524</td>\n",
       "      <td>2.883829e+06</td>\n",
       "      <td>6.176425e+06</td>\n",
       "      <td>4.682942e+06</td>\n",
       "      <td>128036.175110</td>\n",
       "    </tr>\n",
       "    <tr>\n",
       "      <th>2017-11-30</th>\n",
       "      <td>144632.623207</td>\n",
       "      <td>952225.686651</td>\n",
       "      <td>2.889799e+06</td>\n",
       "      <td>6.189241e+06</td>\n",
       "      <td>4.688253e+06</td>\n",
       "      <td>127616.828531</td>\n",
       "    </tr>\n",
       "    <tr>\n",
       "      <th>2017-12-31</th>\n",
       "      <td>144579.324989</td>\n",
       "      <td>952097.758795</td>\n",
       "      <td>2.895762e+06</td>\n",
       "      <td>6.202049e+06</td>\n",
       "      <td>4.693760e+06</td>\n",
       "      <td>127234.488746</td>\n",
       "    </tr>\n",
       "    <tr>\n",
       "      <th>2018-01-31</th>\n",
       "      <td>144555.000000</td>\n",
       "      <td>952019.000000</td>\n",
       "      <td>2.898888e+06</td>\n",
       "      <td>6.208764e+06</td>\n",
       "      <td>4.696718e+06</td>\n",
       "      <td>127047.000000</td>\n",
       "    </tr>\n",
       "  </tbody>\n",
       "</table>\n",
       "<p>85 rows × 6 columns</p>\n",
       "</div>"
      ],
      "text/plain": [
       "              좌안시력_0.1 이하   좌안시력_0.2-0.4  좌안시력_0.5-0.7  좌안시력_0.8-1.0  \\\n",
       "년도                                                                     \n",
       "2011-01-31  150808.656974  810889.446991  2.056239e+06  4.371385e+06   \n",
       "2011-02-28  148644.297876  813044.499092  2.067064e+06  4.392199e+06   \n",
       "2011-03-31  146622.824929  814974.767944  2.077118e+06  4.411329e+06   \n",
       "2011-04-30  144678.915783  816740.648876  2.086725e+06  4.429385e+06   \n",
       "2011-05-31  142886.019271  818268.962276  2.095519e+06  4.445662e+06   \n",
       "...                   ...            ...           ...           ...   \n",
       "2017-09-30  144769.951819  952383.047577  2.877854e+06  6.163600e+06   \n",
       "2017-10-31  144696.202735  952320.663524  2.883829e+06  6.176425e+06   \n",
       "2017-11-30  144632.623207  952225.686651  2.889799e+06  6.189241e+06   \n",
       "2017-12-31  144579.324989  952097.758795  2.895762e+06  6.202049e+06   \n",
       "2018-01-31  144555.000000  952019.000000  2.898888e+06  6.208764e+06   \n",
       "\n",
       "            좌안시력_1.1-1.5   좌안시력_1.6-2.0  \n",
       "년도                                       \n",
       "2011-01-31  3.521993e+06  144753.801208  \n",
       "2011-02-28  3.539525e+06  144036.923410  \n",
       "2011-03-31  3.555605e+06  143322.135001  \n",
       "2011-04-30  3.570748e+06  142585.252689  \n",
       "2011-05-31  3.584358e+06  141850.578597  \n",
       "...                  ...            ...  \n",
       "2017-09-30  4.677825e+06  128492.126238  \n",
       "2017-10-31  4.682942e+06  128036.175110  \n",
       "2017-11-30  4.688253e+06  127616.828531  \n",
       "2017-12-31  4.693760e+06  127234.488746  \n",
       "2018-01-31  4.696718e+06  127047.000000  \n",
       "\n",
       "[85 rows x 6 columns]"
      ]
     },
     "execution_count": 157,
     "metadata": {},
     "output_type": "execute_result"
    }
   ],
   "source": [
    "quarterly_mean_sales"
   ]
  },
  {
   "cell_type": "code",
   "execution_count": 161,
   "metadata": {
    "ExecuteTime": {
     "end_time": "2020-04-06T15:52:25.026046Z",
     "start_time": "2020-04-06T15:52:25.022118Z"
    }
   },
   "outputs": [],
   "source": [
    "tmp  = quarterly_mean_sales.reset_index()"
   ]
  },
  {
   "cell_type": "code",
   "execution_count": 162,
   "metadata": {
    "ExecuteTime": {
     "end_time": "2020-04-06T15:52:25.387661Z",
     "start_time": "2020-04-06T15:52:25.381298Z"
    }
   },
   "outputs": [],
   "source": [
    "tmp.to_csv('월별_좌안시력.csv',index=False)"
   ]
  },
  {
   "cell_type": "code",
   "execution_count": 158,
   "metadata": {
    "ExecuteTime": {
     "end_time": "2020-04-06T15:51:26.731924Z",
     "start_time": "2020-04-06T15:51:26.724545Z"
    }
   },
   "outputs": [],
   "source": [
    "quarterly_mean_sales.reset_index().to_csv('월별_좌안시력.csv')"
   ]
  }
 ],
 "metadata": {
  "hide_input": false,
  "kernelspec": {
   "display_name": "Python 3",
   "language": "python",
   "name": "python3"
  },
  "language_info": {
   "codemirror_mode": {
    "name": "ipython",
    "version": 3
   },
   "file_extension": ".py",
   "mimetype": "text/x-python",
   "name": "python",
   "nbconvert_exporter": "python",
   "pygments_lexer": "ipython3",
   "version": "3.7.0"
  },
  "toc": {
   "base_numbering": 1,
   "nav_menu": {},
   "number_sections": true,
   "sideBar": true,
   "skip_h1_title": false,
   "title_cell": "Table of Contents",
   "title_sidebar": "Contents",
   "toc_cell": false,
   "toc_position": {},
   "toc_section_display": true,
   "toc_window_display": false
  }
 },
 "nbformat": 4,
 "nbformat_minor": 4
}
