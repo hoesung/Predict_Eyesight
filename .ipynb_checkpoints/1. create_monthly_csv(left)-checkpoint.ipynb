{
 "cells": [
  {
   "cell_type": "code",
   "execution_count": 2,
   "metadata": {
    "ExecuteTime": {
     "end_time": "2020-05-13T16:22:41.987561Z",
     "start_time": "2020-05-13T16:22:41.546739Z"
    }
   },
   "outputs": [],
   "source": [
    "import pandas as pd\n",
    "import matplotlib.pyplot as plt\n",
    "import datetime"
   ]
  },
  {
   "cell_type": "code",
   "execution_count": 3,
   "metadata": {
    "ExecuteTime": {
     "end_time": "2020-05-13T16:22:41.993200Z",
     "start_time": "2020-05-13T16:22:41.990223Z"
    }
   },
   "outputs": [],
   "source": [
    "from matplotlib import rc\n",
    "rc('font', family='AppleGothic')\n",
    "plt.rcParams['axes.unicode_minus'] = False"
   ]
  },
  {
   "cell_type": "code",
   "execution_count": 5,
   "metadata": {
    "ExecuteTime": {
     "end_time": "2020-05-13T16:23:16.159375Z",
     "start_time": "2020-05-13T16:23:16.153283Z"
    }
   },
   "outputs": [],
   "source": [
    "df = pd.read_csv('./data/yearly_left.csv')\n",
    "df.columns = ['year','l_under_0.1','l_0.2-0.4','l_0.5-0.7','l_0.8-1.0','l_1.1-1.5','l_1.6-2.0']"
   ]
  },
  {
   "cell_type": "code",
   "execution_count": 6,
   "metadata": {
    "ExecuteTime": {
     "end_time": "2020-05-13T16:23:16.598465Z",
     "start_time": "2020-05-13T16:23:16.595684Z"
    }
   },
   "outputs": [],
   "source": [
    "years = ['2011-01-01',\n",
    "         '2012-01-01',\n",
    "         '2013-01-01',\n",
    "         '2014-01-01',\n",
    "         '2015-01-01',\n",
    "         '2016-01-01',\n",
    "         '2017-01-01',\n",
    "         '2018-01-01', ]"
   ]
  },
  {
   "cell_type": "code",
   "execution_count": 7,
   "metadata": {
    "ExecuteTime": {
     "end_time": "2020-05-13T16:23:20.353955Z",
     "start_time": "2020-05-13T16:23:20.339506Z"
    }
   },
   "outputs": [
    {
     "data": {
      "text/html": [
       "<div>\n",
       "<style scoped>\n",
       "    .dataframe tbody tr th:only-of-type {\n",
       "        vertical-align: middle;\n",
       "    }\n",
       "\n",
       "    .dataframe tbody tr th {\n",
       "        vertical-align: top;\n",
       "    }\n",
       "\n",
       "    .dataframe thead th {\n",
       "        text-align: right;\n",
       "    }\n",
       "</style>\n",
       "<table border=\"1\" class=\"dataframe\">\n",
       "  <thead>\n",
       "    <tr style=\"text-align: right;\">\n",
       "      <th></th>\n",
       "      <th>year</th>\n",
       "      <th>l_under_0.1</th>\n",
       "      <th>l_0.2-0.4</th>\n",
       "      <th>l_0.5-0.7</th>\n",
       "      <th>l_0.8-1.0</th>\n",
       "      <th>l_1.1-1.5</th>\n",
       "      <th>l_1.6-2.0</th>\n",
       "    </tr>\n",
       "  </thead>\n",
       "  <tbody>\n",
       "    <tr>\n",
       "      <th>0</th>\n",
       "      <td>2011-01-01</td>\n",
       "      <td>151956</td>\n",
       "      <td>809720</td>\n",
       "      <td>2050483</td>\n",
       "      <td>4360250</td>\n",
       "      <td>3512604</td>\n",
       "      <td>145119</td>\n",
       "    </tr>\n",
       "    <tr>\n",
       "      <th>1</th>\n",
       "      <td>2012-01-01</td>\n",
       "      <td>134193</td>\n",
       "      <td>822200</td>\n",
       "      <td>2135806</td>\n",
       "      <td>4511504</td>\n",
       "      <td>3637984</td>\n",
       "      <td>136381</td>\n",
       "    </tr>\n",
       "    <tr>\n",
       "      <th>2</th>\n",
       "      <td>2013-01-01</td>\n",
       "      <td>134193</td>\n",
       "      <td>811261</td>\n",
       "      <td>2142569</td>\n",
       "      <td>4504855</td>\n",
       "      <td>3624060</td>\n",
       "      <td>129169</td>\n",
       "    </tr>\n",
       "    <tr>\n",
       "      <th>3</th>\n",
       "      <td>2014-01-01</td>\n",
       "      <td>133348</td>\n",
       "      <td>845393</td>\n",
       "      <td>2304121</td>\n",
       "      <td>4906634</td>\n",
       "      <td>3937482</td>\n",
       "      <td>132040</td>\n",
       "    </tr>\n",
       "    <tr>\n",
       "      <th>4</th>\n",
       "      <td>2015-01-01</td>\n",
       "      <td>146599</td>\n",
       "      <td>940047</td>\n",
       "      <td>2636683</td>\n",
       "      <td>5622591</td>\n",
       "      <td>4483857</td>\n",
       "      <td>147348</td>\n",
       "    </tr>\n",
       "    <tr>\n",
       "      <th>5</th>\n",
       "      <td>2016-01-01</td>\n",
       "      <td>148079</td>\n",
       "      <td>948905</td>\n",
       "      <td>2753935</td>\n",
       "      <td>5894638</td>\n",
       "      <td>4609323</td>\n",
       "      <td>144390</td>\n",
       "    </tr>\n",
       "    <tr>\n",
       "      <th>6</th>\n",
       "      <td>2017-01-01</td>\n",
       "      <td>145800</td>\n",
       "      <td>951604</td>\n",
       "      <td>2827157</td>\n",
       "      <td>6054959</td>\n",
       "      <td>4642413</td>\n",
       "      <td>133808</td>\n",
       "    </tr>\n",
       "    <tr>\n",
       "      <th>7</th>\n",
       "      <td>2018-01-01</td>\n",
       "      <td>144555</td>\n",
       "      <td>952019</td>\n",
       "      <td>2898888</td>\n",
       "      <td>6208764</td>\n",
       "      <td>4696718</td>\n",
       "      <td>127047</td>\n",
       "    </tr>\n",
       "  </tbody>\n",
       "</table>\n",
       "</div>"
      ],
      "text/plain": [
       "        year  l_under_0.1  l_0.2-0.4  l_0.5-0.7  l_0.8-1.0  l_1.1-1.5  \\\n",
       "0 2011-01-01       151956     809720    2050483    4360250    3512604   \n",
       "1 2012-01-01       134193     822200    2135806    4511504    3637984   \n",
       "2 2013-01-01       134193     811261    2142569    4504855    3624060   \n",
       "3 2014-01-01       133348     845393    2304121    4906634    3937482   \n",
       "4 2015-01-01       146599     940047    2636683    5622591    4483857   \n",
       "5 2016-01-01       148079     948905    2753935    5894638    4609323   \n",
       "6 2017-01-01       145800     951604    2827157    6054959    4642413   \n",
       "7 2018-01-01       144555     952019    2898888    6208764    4696718   \n",
       "\n",
       "   l_1.6-2.0  \n",
       "0     145119  \n",
       "1     136381  \n",
       "2     129169  \n",
       "3     132040  \n",
       "4     147348  \n",
       "5     144390  \n",
       "6     133808  \n",
       "7     127047  "
      ]
     },
     "execution_count": 7,
     "metadata": {},
     "output_type": "execute_result"
    }
   ],
   "source": [
    "df['year'] = pd.to_datetime(years,format=\"%Y\",infer_datetime_format=True)\n",
    "df"
   ]
  },
  {
   "cell_type": "code",
   "execution_count": 8,
   "metadata": {
    "ExecuteTime": {
     "end_time": "2020-05-13T16:23:27.877584Z",
     "start_time": "2020-05-13T16:23:27.873756Z"
    }
   },
   "outputs": [],
   "source": [
    "df['year'] = pd.to_datetime(df['year'], unit='s')"
   ]
  },
  {
   "cell_type": "code",
   "execution_count": 9,
   "metadata": {
    "ExecuteTime": {
     "end_time": "2020-05-13T16:23:37.384777Z",
     "start_time": "2020-05-13T16:23:37.290350Z"
    }
   },
   "outputs": [],
   "source": [
    "upsampled = df.set_index('year').resample('D')\n",
    "# resampled = upsampled.resample('Q')\n",
    "interpolated = upsampled.interpolate(method='quadratic')"
   ]
  },
  {
   "cell_type": "code",
   "execution_count": 11,
   "metadata": {
    "ExecuteTime": {
     "end_time": "2020-05-13T16:23:39.102807Z",
     "start_time": "2020-05-13T16:23:39.087758Z"
    }
   },
   "outputs": [
    {
     "data": {
      "text/html": [
       "<div>\n",
       "<style scoped>\n",
       "    .dataframe tbody tr th:only-of-type {\n",
       "        vertical-align: middle;\n",
       "    }\n",
       "\n",
       "    .dataframe tbody tr th {\n",
       "        vertical-align: top;\n",
       "    }\n",
       "\n",
       "    .dataframe thead th {\n",
       "        text-align: right;\n",
       "    }\n",
       "</style>\n",
       "<table border=\"1\" class=\"dataframe\">\n",
       "  <thead>\n",
       "    <tr style=\"text-align: right;\">\n",
       "      <th></th>\n",
       "      <th>l_under_0.1</th>\n",
       "      <th>l_0.2-0.4</th>\n",
       "      <th>l_0.5-0.7</th>\n",
       "      <th>l_0.8-1.0</th>\n",
       "      <th>l_1.1-1.5</th>\n",
       "      <th>l_1.6-2.0</th>\n",
       "    </tr>\n",
       "    <tr>\n",
       "      <th>year</th>\n",
       "      <th></th>\n",
       "      <th></th>\n",
       "      <th></th>\n",
       "      <th></th>\n",
       "      <th></th>\n",
       "      <th></th>\n",
       "    </tr>\n",
       "  </thead>\n",
       "  <tbody>\n",
       "    <tr>\n",
       "      <th>2011-01-01</th>\n",
       "      <td>151956.000000</td>\n",
       "      <td>809720.000000</td>\n",
       "      <td>2.050483e+06</td>\n",
       "      <td>4.360250e+06</td>\n",
       "      <td>3.512604e+06</td>\n",
       "      <td>145119.000000</td>\n",
       "    </tr>\n",
       "    <tr>\n",
       "      <th>2011-01-02</th>\n",
       "      <td>151877.949750</td>\n",
       "      <td>809800.418392</td>\n",
       "      <td>2.050875e+06</td>\n",
       "      <td>4.361011e+06</td>\n",
       "      <td>3.513246e+06</td>\n",
       "      <td>145094.630592</td>\n",
       "    </tr>\n",
       "    <tr>\n",
       "      <th>2011-01-03</th>\n",
       "      <td>151800.060953</td>\n",
       "      <td>809880.582792</td>\n",
       "      <td>2.051266e+06</td>\n",
       "      <td>4.361770e+06</td>\n",
       "      <td>3.513886e+06</td>\n",
       "      <td>145070.263545</td>\n",
       "    </tr>\n",
       "    <tr>\n",
       "      <th>2011-01-04</th>\n",
       "      <td>151722.333610</td>\n",
       "      <td>809960.493200</td>\n",
       "      <td>2.051657e+06</td>\n",
       "      <td>4.362527e+06</td>\n",
       "      <td>3.514525e+06</td>\n",
       "      <td>145045.898858</td>\n",
       "    </tr>\n",
       "    <tr>\n",
       "      <th>2011-01-05</th>\n",
       "      <td>151644.767719</td>\n",
       "      <td>810040.149615</td>\n",
       "      <td>2.052046e+06</td>\n",
       "      <td>4.363282e+06</td>\n",
       "      <td>3.515161e+06</td>\n",
       "      <td>145021.536533</td>\n",
       "    </tr>\n",
       "    <tr>\n",
       "      <th>...</th>\n",
       "      <td>...</td>\n",
       "      <td>...</td>\n",
       "      <td>...</td>\n",
       "      <td>...</td>\n",
       "      <td>...</td>\n",
       "      <td>...</td>\n",
       "    </tr>\n",
       "    <tr>\n",
       "      <th>2017-12-28</th>\n",
       "      <td>144560.707515</td>\n",
       "      <td>952039.887489</td>\n",
       "      <td>2.898107e+06</td>\n",
       "      <td>6.207086e+06</td>\n",
       "      <td>4.695971e+06</td>\n",
       "      <td>127092.526964</td>\n",
       "    </tr>\n",
       "    <tr>\n",
       "      <th>2017-12-29</th>\n",
       "      <td>144559.264148</td>\n",
       "      <td>952034.718461</td>\n",
       "      <td>2.898302e+06</td>\n",
       "      <td>6.207505e+06</td>\n",
       "      <td>4.696158e+06</td>\n",
       "      <td>127081.085875</td>\n",
       "    </tr>\n",
       "    <tr>\n",
       "      <th>2017-12-30</th>\n",
       "      <td>144557.831773</td>\n",
       "      <td>952029.514203</td>\n",
       "      <td>2.898497e+06</td>\n",
       "      <td>6.207925e+06</td>\n",
       "      <td>4.696344e+06</td>\n",
       "      <td>127069.684352</td>\n",
       "    </tr>\n",
       "    <tr>\n",
       "      <th>2017-12-31</th>\n",
       "      <td>144556.410390</td>\n",
       "      <td>952024.274716</td>\n",
       "      <td>2.898693e+06</td>\n",
       "      <td>6.208344e+06</td>\n",
       "      <td>4.696531e+06</td>\n",
       "      <td>127058.322393</td>\n",
       "    </tr>\n",
       "    <tr>\n",
       "      <th>2018-01-01</th>\n",
       "      <td>144555.000000</td>\n",
       "      <td>952019.000000</td>\n",
       "      <td>2.898888e+06</td>\n",
       "      <td>6.208764e+06</td>\n",
       "      <td>4.696718e+06</td>\n",
       "      <td>127047.000000</td>\n",
       "    </tr>\n",
       "  </tbody>\n",
       "</table>\n",
       "<p>2558 rows × 6 columns</p>\n",
       "</div>"
      ],
      "text/plain": [
       "              l_under_0.1      l_0.2-0.4     l_0.5-0.7     l_0.8-1.0  \\\n",
       "year                                                                   \n",
       "2011-01-01  151956.000000  809720.000000  2.050483e+06  4.360250e+06   \n",
       "2011-01-02  151877.949750  809800.418392  2.050875e+06  4.361011e+06   \n",
       "2011-01-03  151800.060953  809880.582792  2.051266e+06  4.361770e+06   \n",
       "2011-01-04  151722.333610  809960.493200  2.051657e+06  4.362527e+06   \n",
       "2011-01-05  151644.767719  810040.149615  2.052046e+06  4.363282e+06   \n",
       "...                   ...            ...           ...           ...   \n",
       "2017-12-28  144560.707515  952039.887489  2.898107e+06  6.207086e+06   \n",
       "2017-12-29  144559.264148  952034.718461  2.898302e+06  6.207505e+06   \n",
       "2017-12-30  144557.831773  952029.514203  2.898497e+06  6.207925e+06   \n",
       "2017-12-31  144556.410390  952024.274716  2.898693e+06  6.208344e+06   \n",
       "2018-01-01  144555.000000  952019.000000  2.898888e+06  6.208764e+06   \n",
       "\n",
       "               l_1.1-1.5      l_1.6-2.0  \n",
       "year                                     \n",
       "2011-01-01  3.512604e+06  145119.000000  \n",
       "2011-01-02  3.513246e+06  145094.630592  \n",
       "2011-01-03  3.513886e+06  145070.263545  \n",
       "2011-01-04  3.514525e+06  145045.898858  \n",
       "2011-01-05  3.515161e+06  145021.536533  \n",
       "...                  ...            ...  \n",
       "2017-12-28  4.695971e+06  127092.526964  \n",
       "2017-12-29  4.696158e+06  127081.085875  \n",
       "2017-12-30  4.696344e+06  127069.684352  \n",
       "2017-12-31  4.696531e+06  127058.322393  \n",
       "2018-01-01  4.696718e+06  127047.000000  \n",
       "\n",
       "[2558 rows x 6 columns]"
      ]
     },
     "execution_count": 11,
     "metadata": {},
     "output_type": "execute_result"
    }
   ],
   "source": [
    "interpolated"
   ]
  },
  {
   "cell_type": "code",
   "execution_count": 12,
   "metadata": {
    "ExecuteTime": {
     "end_time": "2020-05-13T16:23:41.749503Z",
     "start_time": "2020-05-13T16:23:41.735998Z"
    }
   },
   "outputs": [
    {
     "data": {
      "text/html": [
       "<div>\n",
       "<style scoped>\n",
       "    .dataframe tbody tr th:only-of-type {\n",
       "        vertical-align: middle;\n",
       "    }\n",
       "\n",
       "    .dataframe tbody tr th {\n",
       "        vertical-align: top;\n",
       "    }\n",
       "\n",
       "    .dataframe thead th {\n",
       "        text-align: right;\n",
       "    }\n",
       "</style>\n",
       "<table border=\"1\" class=\"dataframe\">\n",
       "  <thead>\n",
       "    <tr style=\"text-align: right;\">\n",
       "      <th></th>\n",
       "      <th>l_under_0.1</th>\n",
       "      <th>l_0.2-0.4</th>\n",
       "      <th>l_0.5-0.7</th>\n",
       "      <th>l_0.8-1.0</th>\n",
       "      <th>l_1.1-1.5</th>\n",
       "      <th>l_1.6-2.0</th>\n",
       "    </tr>\n",
       "    <tr>\n",
       "      <th>year</th>\n",
       "      <th></th>\n",
       "      <th></th>\n",
       "      <th></th>\n",
       "      <th></th>\n",
       "      <th></th>\n",
       "      <th></th>\n",
       "    </tr>\n",
       "  </thead>\n",
       "  <tbody>\n",
       "    <tr>\n",
       "      <th>2011-01-01</th>\n",
       "      <td>151956</td>\n",
       "      <td>809720</td>\n",
       "      <td>2050483</td>\n",
       "      <td>4360250</td>\n",
       "      <td>3512604</td>\n",
       "      <td>145119</td>\n",
       "    </tr>\n",
       "    <tr>\n",
       "      <th>2011-01-02</th>\n",
       "      <td>151878</td>\n",
       "      <td>809800</td>\n",
       "      <td>2050875</td>\n",
       "      <td>4361011</td>\n",
       "      <td>3513246</td>\n",
       "      <td>145095</td>\n",
       "    </tr>\n",
       "    <tr>\n",
       "      <th>2011-01-03</th>\n",
       "      <td>151800</td>\n",
       "      <td>809881</td>\n",
       "      <td>2051266</td>\n",
       "      <td>4361770</td>\n",
       "      <td>3513886</td>\n",
       "      <td>145070</td>\n",
       "    </tr>\n",
       "    <tr>\n",
       "      <th>2011-01-04</th>\n",
       "      <td>151722</td>\n",
       "      <td>809960</td>\n",
       "      <td>2051657</td>\n",
       "      <td>4362527</td>\n",
       "      <td>3514525</td>\n",
       "      <td>145046</td>\n",
       "    </tr>\n",
       "    <tr>\n",
       "      <th>2011-01-05</th>\n",
       "      <td>151645</td>\n",
       "      <td>810040</td>\n",
       "      <td>2052046</td>\n",
       "      <td>4363282</td>\n",
       "      <td>3515161</td>\n",
       "      <td>145022</td>\n",
       "    </tr>\n",
       "    <tr>\n",
       "      <th>...</th>\n",
       "      <td>...</td>\n",
       "      <td>...</td>\n",
       "      <td>...</td>\n",
       "      <td>...</td>\n",
       "      <td>...</td>\n",
       "      <td>...</td>\n",
       "    </tr>\n",
       "    <tr>\n",
       "      <th>2017-12-28</th>\n",
       "      <td>144561</td>\n",
       "      <td>952040</td>\n",
       "      <td>2898107</td>\n",
       "      <td>6207086</td>\n",
       "      <td>4695971</td>\n",
       "      <td>127093</td>\n",
       "    </tr>\n",
       "    <tr>\n",
       "      <th>2017-12-29</th>\n",
       "      <td>144559</td>\n",
       "      <td>952035</td>\n",
       "      <td>2898302</td>\n",
       "      <td>6207505</td>\n",
       "      <td>4696158</td>\n",
       "      <td>127081</td>\n",
       "    </tr>\n",
       "    <tr>\n",
       "      <th>2017-12-30</th>\n",
       "      <td>144558</td>\n",
       "      <td>952030</td>\n",
       "      <td>2898497</td>\n",
       "      <td>6207925</td>\n",
       "      <td>4696344</td>\n",
       "      <td>127070</td>\n",
       "    </tr>\n",
       "    <tr>\n",
       "      <th>2017-12-31</th>\n",
       "      <td>144556</td>\n",
       "      <td>952024</td>\n",
       "      <td>2898693</td>\n",
       "      <td>6208344</td>\n",
       "      <td>4696531</td>\n",
       "      <td>127058</td>\n",
       "    </tr>\n",
       "    <tr>\n",
       "      <th>2018-01-01</th>\n",
       "      <td>144555</td>\n",
       "      <td>952019</td>\n",
       "      <td>2898888</td>\n",
       "      <td>6208764</td>\n",
       "      <td>4696718</td>\n",
       "      <td>127047</td>\n",
       "    </tr>\n",
       "  </tbody>\n",
       "</table>\n",
       "<p>2558 rows × 6 columns</p>\n",
       "</div>"
      ],
      "text/plain": [
       "            l_under_0.1  l_0.2-0.4  l_0.5-0.7  l_0.8-1.0  l_1.1-1.5  l_1.6-2.0\n",
       "year                                                                          \n",
       "2011-01-01       151956     809720    2050483    4360250    3512604     145119\n",
       "2011-01-02       151878     809800    2050875    4361011    3513246     145095\n",
       "2011-01-03       151800     809881    2051266    4361770    3513886     145070\n",
       "2011-01-04       151722     809960    2051657    4362527    3514525     145046\n",
       "2011-01-05       151645     810040    2052046    4363282    3515161     145022\n",
       "...                 ...        ...        ...        ...        ...        ...\n",
       "2017-12-28       144561     952040    2898107    6207086    4695971     127093\n",
       "2017-12-29       144559     952035    2898302    6207505    4696158     127081\n",
       "2017-12-30       144558     952030    2898497    6207925    4696344     127070\n",
       "2017-12-31       144556     952024    2898693    6208344    4696531     127058\n",
       "2018-01-01       144555     952019    2898888    6208764    4696718     127047\n",
       "\n",
       "[2558 rows x 6 columns]"
      ]
     },
     "execution_count": 12,
     "metadata": {},
     "output_type": "execute_result"
    }
   ],
   "source": [
    "interpolated.round().astype(int)"
   ]
  },
  {
   "cell_type": "code",
   "execution_count": 13,
   "metadata": {
    "ExecuteTime": {
     "end_time": "2020-05-13T16:23:58.416777Z",
     "start_time": "2020-05-13T16:23:58.360881Z"
    }
   },
   "outputs": [],
   "source": [
    "interpolated.reset_index().to_csv('./data/daily_left.csv', index=False)"
   ]
  },
  {
   "cell_type": "code",
   "execution_count": 14,
   "metadata": {
    "ExecuteTime": {
     "end_time": "2020-05-13T16:24:03.225612Z",
     "start_time": "2020-05-13T16:24:03.028299Z"
    }
   },
   "outputs": [
    {
     "data": {
      "image/png": "[encoded data removed]",
      "text/plain": [
       "<Figure size 432x288 with 1 Axes>"
      ]
     },
     "metadata": {
      "needs_background": "light"
     },
     "output_type": "display_data"
    }
   ],
   "source": [
    "df.set_index('year').plot()\n",
    "plt.legend(loc='right',bbox_to_anchor=(1.4, 0.3))\n",
    "# plt.savefig('일별좌안시력_before_upsampling.png',bbox_inces='tight',pad_inches=0)\n",
    "plt.show()\n"
   ]
  },
  {
   "cell_type": "code",
   "execution_count": 15,
   "metadata": {
    "ExecuteTime": {
     "end_time": "2020-05-13T16:24:19.119885Z",
     "start_time": "2020-05-13T16:24:18.812324Z"
    },
    "scrolled": false
   },
   "outputs": [
    {
     "data": {
      "text/plain": [
       "<matplotlib.legend.Legend at 0x11668cc88>"
      ]
     },
     "execution_count": 15,
     "metadata": {},
     "output_type": "execute_result"
    },
    {
     "data": {
      "image/png": "[encoded data removed]",
      "text/plain": [
       "<Figure size 432x288 with 1 Axes>"
      ]
     },
     "metadata": {
      "needs_background": "light"
     },
     "output_type": "display_data"
    }
   ],
   "source": [
    "interpolated.plot()\n",
    "plt.legend(loc='right',bbox_to_anchor=(1.4, 0.3))\n"
   ]
  },
  {
   "cell_type": "markdown",
   "metadata": {},
   "source": [
    "# 분기별 "
   ]
  },
  {
   "cell_type": "code",
   "execution_count": 103,
   "metadata": {
    "ExecuteTime": {
     "end_time": "2020-04-15T04:55:20.164183Z",
     "start_time": "2020-04-15T04:55:19.901782Z"
    }
   },
   "outputs": [
    {
     "data": {
      "text/plain": [
       "<matplotlib.axes._subplots.AxesSubplot at 0x123c77320>"
      ]
     },
     "execution_count": 103,
     "metadata": {},
     "output_type": "execute_result"
    },
    {
     "data": {
      "image/png": "[encoded data removed]",
      "text/plain": [
       "<Figure size 432x288 with 1 Axes>"
      ]
     },
     "metadata": {
      "needs_background": "light"
     },
     "output_type": "display_data"
    }
   ],
   "source": [
    "resample = interpolated.resample('Q')\n",
    "quarterly_mean_sales = resample.mean().round().astype(int)\n",
    "quarterly_mean_sales.plot()"
   ]
  },
  {
   "cell_type": "code",
   "execution_count": 105,
   "metadata": {
    "ExecuteTime": {
     "end_time": "2020-04-15T04:55:48.368155Z",
     "start_time": "2020-04-15T04:55:48.357251Z"
    }
   },
   "outputs": [],
   "source": [
    "quarterly_mean_sales.reset_index().to_csv('./data/분기별_좌안시력.csv', index=False)"
   ]
  },
  {
   "cell_type": "code",
   "execution_count": 153,
   "metadata": {
    "ExecuteTime": {
     "end_time": "2020-04-06T15:47:47.109463Z",
     "start_time": "2020-04-06T15:47:46.852125Z"
    }
   },
   "outputs": [
    {
     "data": {
      "text/plain": [
       "<matplotlib.axes._subplots.AxesSubplot at 0x12251aeb8>"
      ]
     },
     "execution_count": 153,
     "metadata": {},
     "output_type": "execute_result"
    },
    {
     "data": {
      "image/png": "[encoded data removed]",
      "text/plain": [
       "<Figure size 432x288 with 1 Axes>"
      ]
     },
     "metadata": {
      "needs_background": "light"
     },
     "output_type": "display_data"
    }
   ],
   "source": [
    "quarterly_mean_sales.plot()"
   ]
  },
  {
   "cell_type": "code",
   "execution_count": 154,
   "metadata": {
    "ExecuteTime": {
     "end_time": "2020-04-06T15:48:02.957484Z",
     "start_time": "2020-04-06T15:48:02.770797Z"
    }
   },
   "outputs": [
    {
     "data": {
      "text/plain": [
       "<matplotlib.axes._subplots.AxesSubplot at 0x122641ba8>"
      ]
     },
     "execution_count": 154,
     "metadata": {},
     "output_type": "execute_result"
    },
    {
     "data": {
      "image/png": "[encoded data removed]",
      "text/plain": [
       "<Figure size 432x288 with 1 Axes>"
      ]
     },
     "metadata": {
      "needs_background": "light"
     },
     "output_type": "display_data"
    }
   ],
   "source": [
    "df.set_index('년도').plot()"
   ]
  },
  {
   "cell_type": "code",
   "execution_count": 157,
   "metadata": {
    "ExecuteTime": {
     "end_time": "2020-04-06T15:51:16.366751Z",
     "start_time": "2020-04-06T15:51:16.351247Z"
    }
   },
   "outputs": [
    {
     "data": {
      "text/html": [
       "<div>\n",
       "<style scoped>\n",
       "    .dataframe tbody tr th:only-of-type {\n",
       "        vertical-align: middle;\n",
       "    }\n",
       "\n",
       "    .dataframe tbody tr th {\n",
       "        vertical-align: top;\n",
       "    }\n",
       "\n",
       "    .dataframe thead th {\n",
       "        text-align: right;\n",
       "    }\n",
       "</style>\n",
       "<table border=\"1\" class=\"dataframe\">\n",
       "  <thead>\n",
       "    <tr style=\"text-align: right;\">\n",
       "      <th></th>\n",
       "      <th>좌안시력_0.1 이하</th>\n",
       "      <th>좌안시력_0.2-0.4</th>\n",
       "      <th>좌안시력_0.5-0.7</th>\n",
       "      <th>좌안시력_0.8-1.0</th>\n",
       "      <th>좌안시력_1.1-1.5</th>\n",
       "      <th>좌안시력_1.6-2.0</th>\n",
       "    </tr>\n",
       "    <tr>\n",
       "      <th>년도</th>\n",
       "      <th></th>\n",
       "      <th></th>\n",
       "      <th></th>\n",
       "      <th></th>\n",
       "      <th></th>\n",
       "      <th></th>\n",
       "    </tr>\n",
       "  </thead>\n",
       "  <tbody>\n",
       "    <tr>\n",
       "      <th>2011-01-31</th>\n",
       "      <td>150808.656974</td>\n",
       "      <td>810889.446991</td>\n",
       "      <td>2.056239e+06</td>\n",
       "      <td>4.371385e+06</td>\n",
       "      <td>3.521993e+06</td>\n",
       "      <td>144753.801208</td>\n",
       "    </tr>\n",
       "    <tr>\n",
       "      <th>2011-02-28</th>\n",
       "      <td>148644.297876</td>\n",
       "      <td>813044.499092</td>\n",
       "      <td>2.067064e+06</td>\n",
       "      <td>4.392199e+06</td>\n",
       "      <td>3.539525e+06</td>\n",
       "      <td>144036.923410</td>\n",
       "    </tr>\n",
       "    <tr>\n",
       "      <th>2011-03-31</th>\n",
       "      <td>146622.824929</td>\n",
       "      <td>814974.767944</td>\n",
       "      <td>2.077118e+06</td>\n",
       "      <td>4.411329e+06</td>\n",
       "      <td>3.555605e+06</td>\n",
       "      <td>143322.135001</td>\n",
       "    </tr>\n",
       "    <tr>\n",
       "      <th>2011-04-30</th>\n",
       "      <td>144678.915783</td>\n",
       "      <td>816740.648876</td>\n",
       "      <td>2.086725e+06</td>\n",
       "      <td>4.429385e+06</td>\n",
       "      <td>3.570748e+06</td>\n",
       "      <td>142585.252689</td>\n",
       "    </tr>\n",
       "    <tr>\n",
       "      <th>2011-05-31</th>\n",
       "      <td>142886.019271</td>\n",
       "      <td>818268.962276</td>\n",
       "      <td>2.095519e+06</td>\n",
       "      <td>4.445662e+06</td>\n",
       "      <td>3.584358e+06</td>\n",
       "      <td>141850.578597</td>\n",
       "    </tr>\n",
       "    <tr>\n",
       "      <th>...</th>\n",
       "      <td>...</td>\n",
       "      <td>...</td>\n",
       "      <td>...</td>\n",
       "      <td>...</td>\n",
       "      <td>...</td>\n",
       "      <td>...</td>\n",
       "    </tr>\n",
       "    <tr>\n",
       "      <th>2017-09-30</th>\n",
       "      <td>144769.951819</td>\n",
       "      <td>952383.047577</td>\n",
       "      <td>2.877854e+06</td>\n",
       "      <td>6.163600e+06</td>\n",
       "      <td>4.677825e+06</td>\n",
       "      <td>128492.126238</td>\n",
       "    </tr>\n",
       "    <tr>\n",
       "      <th>2017-10-31</th>\n",
       "      <td>144696.202735</td>\n",
       "      <td>952320.663524</td>\n",
       "      <td>2.883829e+06</td>\n",
       "      <td>6.176425e+06</td>\n",
       "      <td>4.682942e+06</td>\n",
       "      <td>128036.175110</td>\n",
       "    </tr>\n",
       "    <tr>\n",
       "      <th>2017-11-30</th>\n",
       "      <td>144632.623207</td>\n",
       "      <td>952225.686651</td>\n",
       "      <td>2.889799e+06</td>\n",
       "      <td>6.189241e+06</td>\n",
       "      <td>4.688253e+06</td>\n",
       "      <td>127616.828531</td>\n",
       "    </tr>\n",
       "    <tr>\n",
       "      <th>2017-12-31</th>\n",
       "      <td>144579.324989</td>\n",
       "      <td>952097.758795</td>\n",
       "      <td>2.895762e+06</td>\n",
       "      <td>6.202049e+06</td>\n",
       "      <td>4.693760e+06</td>\n",
       "      <td>127234.488746</td>\n",
       "    </tr>\n",
       "    <tr>\n",
       "      <th>2018-01-31</th>\n",
       "      <td>144555.000000</td>\n",
       "      <td>952019.000000</td>\n",
       "      <td>2.898888e+06</td>\n",
       "      <td>6.208764e+06</td>\n",
       "      <td>4.696718e+06</td>\n",
       "      <td>127047.000000</td>\n",
       "    </tr>\n",
       "  </tbody>\n",
       "</table>\n",
       "<p>85 rows × 6 columns</p>\n",
       "</div>"
      ],
      "text/plain": [
       "              좌안시력_0.1 이하   좌안시력_0.2-0.4  좌안시력_0.5-0.7  좌안시력_0.8-1.0  \\\n",
       "년도                                                                     \n",
       "2011-01-31  150808.656974  810889.446991  2.056239e+06  4.371385e+06   \n",
       "2011-02-28  148644.297876  813044.499092  2.067064e+06  4.392199e+06   \n",
       "2011-03-31  146622.824929  814974.767944  2.077118e+06  4.411329e+06   \n",
       "2011-04-30  144678.915783  816740.648876  2.086725e+06  4.429385e+06   \n",
       "2011-05-31  142886.019271  818268.962276  2.095519e+06  4.445662e+06   \n",
       "...                   ...            ...           ...           ...   \n",
       "2017-09-30  144769.951819  952383.047577  2.877854e+06  6.163600e+06   \n",
       "2017-10-31  144696.202735  952320.663524  2.883829e+06  6.176425e+06   \n",
       "2017-11-30  144632.623207  952225.686651  2.889799e+06  6.189241e+06   \n",
       "2017-12-31  144579.324989  952097.758795  2.895762e+06  6.202049e+06   \n",
       "2018-01-31  144555.000000  952019.000000  2.898888e+06  6.208764e+06   \n",
       "\n",
       "            좌안시력_1.1-1.5   좌안시력_1.6-2.0  \n",
       "년도                                       \n",
       "2011-01-31  3.521993e+06  144753.801208  \n",
       "2011-02-28  3.539525e+06  144036.923410  \n",
       "2011-03-31  3.555605e+06  143322.135001  \n",
       "2011-04-30  3.570748e+06  142585.252689  \n",
       "2011-05-31  3.584358e+06  141850.578597  \n",
       "...                  ...            ...  \n",
       "2017-09-30  4.677825e+06  128492.126238  \n",
       "2017-10-31  4.682942e+06  128036.175110  \n",
       "2017-11-30  4.688253e+06  127616.828531  \n",
       "2017-12-31  4.693760e+06  127234.488746  \n",
       "2018-01-31  4.696718e+06  127047.000000  \n",
       "\n",
       "[85 rows x 6 columns]"
      ]
     },
     "execution_count": 157,
     "metadata": {},
     "output_type": "execute_result"
    }
   ],
   "source": [
    "quarterly_mean_sales"
   ]
  },
  {
   "cell_type": "code",
   "execution_count": 161,
   "metadata": {
    "ExecuteTime": {
     "end_time": "2020-04-06T15:52:25.026046Z",
     "start_time": "2020-04-06T15:52:25.022118Z"
    }
   },
   "outputs": [],
   "source": [
    "tmp  = quarterly_mean_sales.reset_index()"
   ]
  },
  {
   "cell_type": "code",
   "execution_count": 162,
   "metadata": {
    "ExecuteTime": {
     "end_time": "2020-04-06T15:52:25.387661Z",
     "start_time": "2020-04-06T15:52:25.381298Z"
    }
   },
   "outputs": [],
   "source": [
    "tmp.to_csv('월별_좌안시력.csv',index=False)"
   ]
  },
  {
   "cell_type": "code",
   "execution_count": 158,
   "metadata": {
    "ExecuteTime": {
     "end_time": "2020-04-06T15:51:26.731924Z",
     "start_time": "2020-04-06T15:51:26.724545Z"
    }
   },
   "outputs": [],
   "source": [
    "quarterly_mean_sales.reset_index().to_csv('월별_좌안시력.csv')"
   ]
  }
 ],
 "metadata": {
  "hide_input": false,
  "kernelspec": {
   "display_name": "Python 3",
   "language": "python",
   "name": "python3"
  },
  "language_info": {
   "codemirror_mode": {
    "name": "ipython",
    "version": 3
   },
   "file_extension": ".py",
   "mimetype": "text/x-python",
   "name": "python",
   "nbconvert_exporter": "python",
   "pygments_lexer": "ipython3",
   "version": "3.7.0"
  },
  "toc": {
   "base_numbering": 1,
   "nav_menu": {},
   "number_sections": true,
   "sideBar": true,
   "skip_h1_title": false,
   "title_cell": "Table of Contents",
   "title_sidebar": "Contents",
   "toc_cell": false,
   "toc_position": {},
   "toc_section_display": true,
   "toc_window_display": false
  }
 },
 "nbformat": 4,
 "nbformat_minor": 4
}
